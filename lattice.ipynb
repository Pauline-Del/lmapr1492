{
 "cells": [
  {
   "cell_type": "code",
   "execution_count": 22,
   "metadata": {},
   "outputs": [],
   "source": [
    "from pymatgen.ext.matproj import MPRester\n",
    "from pymatgen.io.cif import CifWriter\n",
    "from pymatgen.core.lattice import Lattice\n",
    "from pymatgen.symmetry.analyzer import SpacegroupAnalyzer\n",
    "with MPRester(\"Io9tTRLu6kSPwMNT\") as m:\n",
    "    structure = m.get_structure_by_material_id(\"mp-8188\")\n",
    "    w = CifWriter(structure)\n",
    "    w.write_file('KScO2_mp-8188_symmetrized')\n"
   ]
  },
  {
   "cell_type": "code",
   "execution_count": 23,
   "metadata": {},
   "outputs": [
    {
     "name": "stdout",
     "output_type": "stream",
     "text": [
      "Le systeme cristallin est\n",
      "trigonal\n"
     ]
    }
   ],
   "source": [
    "#La = Lattice ([[6.43839732, 0, 0], [0, 6.43839732, 0], [0, 0, 6.43839732]])\n",
    "#FP = La.from_parameters(6.43839732,6.43839732,6.43839732,29.224208,29.224208,29.224208)\n",
    "#RL = La.reciprocal_lattice\n",
    "SGA = SpacegroupAnalyzer(structure,0.01,5)\n",
    "SS =SGA.get_primitive_standard_structure()\n",
    "print('Le systeme cristallin est')\n",
    "SC = SGA.get_crystal_system()\n",
    "print(SC)\n",
    "\n"
   ]
  },
  {
   "cell_type": "code",
   "execution_count": 24,
   "metadata": {},
   "outputs": [
    {
     "name": "stdout",
     "output_type": "stream",
     "text": [
      "Le type de maille est\n",
      "rhombohedral\n"
     ]
    }
   ],
   "source": [
    "print('Le type de maille est')\n",
    "LaS = SGA.get_lattice_type()\n",
    "print(LaS)"
   ]
  },
  {
   "cell_type": "code",
   "execution_count": 25,
   "metadata": {},
   "outputs": [
    {
     "name": "stdout",
     "output_type": "stream",
     "text": [
      "Le groupe ponctuel est\n",
      "-3m\n"
     ]
    }
   ],
   "source": [
    "print('Le groupe ponctuel est')\n",
    "GP = SGA.get_point_group_symbol()\n",
    "print(GP)"
   ]
  },
  {
   "cell_type": "code",
   "execution_count": 26,
   "metadata": {},
   "outputs": [
    {
     "name": "stdout",
     "output_type": "stream",
     "text": [
      "Les vecteurs de bases du reseau direct sont\n",
      "3.140686 -0.001882 5.620413\n",
      "1.462368 2.779459 5.620413\n",
      "-0.003119 -0.001882 6.438396\n"
     ]
    }
   ],
   "source": [
    "print('Les vecteurs de bases du reseau direct sont')\n",
    "LaStructure = structure.lattice\n",
    "print(LaStructure)\n"
   ]
  },
  {
   "cell_type": "code",
   "execution_count": 27,
   "metadata": {},
   "outputs": [
    {
     "name": "stdout",
     "output_type": "stream",
     "text": [
      "Les vecteurs de bases du reseau reciproque sont\n",
      "1.998764 -1.052954 0.000661\n",
      "0.000172 2.259153 0.000661\n",
      "-1.744976 -1.052954 0.974740\n"
     ]
    }
   ],
   "source": [
    "print('Les vecteurs de bases du reseau reciproque sont')\n",
    "RLS = structure.lattice.reciprocal_lattice\n",
    "print(RLS)\n"
   ]
  },
  {
   "cell_type": "code",
   "execution_count": null,
   "metadata": {},
   "outputs": [],
   "source": []
  },
  {
   "cell_type": "code",
   "execution_count": null,
   "metadata": {},
   "outputs": [],
   "source": []
  }
 ],
 "metadata": {
  "kernelspec": {
   "display_name": "Python 3",
   "language": "python",
   "name": "python3"
  },
  "language_info": {
   "codemirror_mode": {
    "name": "ipython",
    "version": 3
   },
   "file_extension": ".py",
   "mimetype": "text/x-python",
   "name": "python",
   "nbconvert_exporter": "python",
   "pygments_lexer": "ipython3",
   "version": "3.6.8"
  }
 },
 "nbformat": 4,
 "nbformat_minor": 2
}
